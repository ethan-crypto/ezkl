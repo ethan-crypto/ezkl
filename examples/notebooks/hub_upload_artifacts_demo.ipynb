{
 "cells": [
  {
   "attachments": {},
   "cell_type": "markdown",
   "id": "cf69bb3f-94e6-4dba-92cd-ce08df117d67",
   "metadata": {},
   "source": [
    "## EZKL HUB Upload Artifacts Jupyter Notebook Demo \n",
    "\n",
    "After you have setup your a circuit locally by running `generate_hub_artifacts.ipynb`, you can upload it to the EZKL hub. This is useful in cases where you want to debug and finetune your circuit params locally before uploading it to the hub for delegated proving. \n",
    "<!-- \n",
    "Here we demonstrate the use of the EZKL hub in a Jupyter notebook whereby all components of the circuit are public or pre-committed to. This is the simplest case of using EZKL (proof of computation). -->\n",
    "\n",
    "This will be accomplished in 7 steps (steps 1-6 are accomplish by `generate_hub_artifacts.ipynb`). \n",
    "\n",
    "1. Train the model. \n",
    "2. Export the model to onnnx\n",
    "3. Generate then calibrate the circuit settings.\n",
    "4. Compile the circuit.\n",
    "5. Download SRS\n",
    "6. Setup circuit keys\n",
    "7. Upload the compiled model, settings and proving keys to the hub. \n"
   ]
  },
  {
   "cell_type": "code",
   "execution_count": null,
   "id": "95613ee9",
   "metadata": {},
   "outputs": [],
   "source": [
    "# check if notebook is in colab\n",
    "try:\n",
    "    # install ezkl\n",
    "    import google.colab\n",
    "    import subprocess\n",
    "    import sys\n",
    "    subprocess.check_call([sys.executable, \"-m\", \"pip\", \"install\", \"ezkl\"])\n",
    "\n",
    "# rely on local installation of ezkl if the notebook is not in colab\n",
    "except:\n",
    "    pass\n",
    "\n",
    "\n",
    "# here we create and (potentially train a model)\n",
    "\n",
    "import os"
   ]
  },
  {
   "cell_type": "code",
   "execution_count": null,
   "metadata": {},
   "outputs": [],
   "source": [
    "model_path = os.path.join('network.onnx')\n",
    "compiled_model_path = os.path.join('network.compiled')\n",
    "pk_path = os.path.join('key.pk')\n",
    "vk_path = os.path.join('key.vk')\n",
    "settings_path = os.path.join('settings.json')\n",
    "srs_path = os.path.join('kzg.srs')\n",
    "witness_path = os.path.join('witness.json')\n",
    "data_path = os.path.join('input.json')"
   ]
  },
  {
   "cell_type": "code",
   "execution_count": null,
   "metadata": {},
   "outputs": [],
   "source": [
    "import time\n",
    "import ezkl\n",
    "\n",
    "# Now that we have all the circuit setup artifacts, we can upload them to the hub\n",
    "\n",
    "test_hub_name = \"samtvlabs\" #we've set this up for you, but you can create your own hub name and use that instead\n",
    "\n",
    "organization = ezkl.get_hub_credentials(test_hub_name)['organizations'][0]\n",
    "\n",
    "print(\"organization: \" + str(organization))\n",
    "\n",
    "# timestamped name\n",
    "name = \"model_\" + str(int(time.time()))\n",
    "\n",
    "deployed_model = ezkl.upload_hub_artifact(compiled_model_path, settings_path, pk_path, name, organization['id'])\n",
    "\n",
    "print(\"deployed model: \" + str(deployed_model))"
   ]
  },
  {
   "cell_type": "code",
   "execution_count": null,
   "id": "81201b32",
   "metadata": {},
   "outputs": [],
   "source": [
    "# Loop every 5 seconds until status is not pending\n",
    "status = \"PENDING\"\n",
    "while status == \"PENDING\":\n",
    "    time.sleep(5)\n",
    "    get_model = ezkl.get_hub_artifact(deployed_model['id'])\n",
    "    status = get_model['status']"
   ]
  },
  {
   "cell_type": "code",
   "execution_count": null,
   "id": "fcc44717",
   "metadata": {},
   "outputs": [],
   "source": [
    "\n",
    "proof_id = ezkl.prove_hub(deployed_model['id'], data_path)\n",
    "print(\"proof id: \" + str(proof_id))"
   ]
  },
  {
   "cell_type": "code",
   "execution_count": null,
   "id": "5aa6a580",
   "metadata": {},
   "outputs": [],
   "source": [
    "# Loop every 5 seconds until status is not pending\n",
    "status = \"PENDING\"\n",
    "while status == \"PENDING\":\n",
    "    time.sleep(5)\n",
    "    get_proof = ezkl.get_hub_proof(proof_id['id'])\n",
    "    status = get_proof['status']"
   ]
  },
  {
   "cell_type": "code",
   "execution_count": null,
   "id": "b9e2f32f",
   "metadata": {},
   "outputs": [],
   "source": [
    "proof = ezkl.get_hub_proof(proof_id['id'])\n",
    "\n",
    "print(\"proof: \" + str(proof))"
   ]
  }
 ],
 "metadata": {
  "kernelspec": {
   "display_name": "Python 3 (ipykernel)",
   "language": "python",
   "name": "python3"
  },
  "language_info": {
   "codemirror_mode": {
    "name": "ipython",
    "version": 3
   },
   "file_extension": ".py",
   "mimetype": "text/x-python",
   "name": "python",
   "nbconvert_exporter": "python",
   "pygments_lexer": "ipython3",
   "version": "3.11.5"
  }
 },
 "nbformat": 4,
 "nbformat_minor": 5
}
