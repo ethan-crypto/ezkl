{
  "cells": [
    {
      "cell_type": "code",
      "execution_count": null,
      "metadata": {
        "colab": {
          "base_uri": "https://localhost:8080/"
        },
        "id": "MFpxCiBzhEMP",
        "outputId": "283347af-4106-4c7a-cabd-cdeb60a94fc7"
      },
      "outputs": [],
      "source": [
        "# check if notebook is in colab\n",
        "try:\n",
        "    # install ezkl\n",
        "    import google.colab\n",
        "    import subprocess\n",
        "    import sys\n",
        "    subprocess.check_call([sys.executable, \"-m\", \"pip\", \"install\", \"ezkl\"])\n",
        "    subprocess.check_call([sys.executable, \"-m\", \"pip\", \"install\", \"onnx\"])\n",
        "\n",
        "# rely on local installation of ezkl if the notebook is not in colab\n",
        "except:\n",
        "    pass"
      ]
    },
    {
      "cell_type": "code",
      "execution_count": null,
      "metadata": {
        "id": "8dIfnqYHhZBq"
      },
      "outputs": [],
      "source": [
        "from torch import nn\n",
        "import ezkl\n",
        "import os\n",
        "import json\n",
        "import torch\n",
        "import math\n",
        "\n",
        "\n",
        "class WorldEngine(nn.Module):\n",
        "  def __init__(self):\n",
        "    super(WorldEngine, self).__init__()\n",
        "\n",
        "    ## phi will equal 15 degrees of rotation\n",
        "    self.phi = 15\n",
        "    self.full_rotation = 360\n",
        "\n",
        "  def forward(self, theta):\n",
        "    theta = torch.add(theta, self.phi)\n",
        "    theta = torch.remainder(theta, 360)\n",
        "    return theta\n",
        "  \n",
        "engine_model = WorldEngine()"
      ]
    },
    {
      "cell_type": "markdown",
      "metadata": {},
      "source": [
        "This will showcase the principle directions of rotation by plotting the rotation of a single unit vector."
      ]
    },
    {
      "cell_type": "code",
      "execution_count": null,
      "metadata": {},
      "outputs": [],
      "source": [
        "\n",
        "from matplotlib import pyplot\n",
        "\n",
        "def degrees_to_radians(degrees):\n",
        "  return torch.tensor(degrees * math.pi / 180)\n",
        "\n",
        "def render_arrows(degrees):\n",
        "  phi_radians = degrees_to_radians(engine_model.phi)\n",
        "\n",
        "  pyplot.figure(figsize=(3, 3))\n",
        "  pyplot.arrow(0, 0, 1, 0, width=0.02, alpha=0.5)\n",
        "  pyplot.arrow(0, 0, 0, 1, width=0.02, alpha=0.5)\n",
        "  pyplot.arrow(0, 0, torch.cos(phi_radians), torch.sin(phi_radians), width=0.02)\n",
        "  pyplot.arrow(0, 0, -torch.sin(phi_radians), torch.cos(phi_radians), width=0.02)\n",
        "\n",
        "render_arrows(engine_model.phi)\n"
      ]
    },
    {
      "cell_type": "code",
      "execution_count": null,
      "metadata": {
        "id": "uTh6ePYYjyAI"
      },
      "outputs": [],
      "source": [
        "# initial principle vectors positions (degreee 0) for the rotation are as in the plot above\n",
        "input = torch.zeros(1)\n",
        "\n",
        "engine_model.eval()\n",
        "\n",
        "model_path = os.path.join(\"network.onnx\")\n",
        "\n",
        "\n",
        "torch.onnx.export(\n",
        "    engine_model,\n",
        "    input,\n",
        "    model_path,\n",
        "    export_params=True,\n",
        "    opset_version=14,\n",
        "    do_constant_folding=True,\n",
        "    input_names=[\"input\"],\n",
        "    output_names=[\"output\"],\n",
        ")"
      ]
    },
    {
      "cell_type": "code",
      "execution_count": null,
      "metadata": {
        "id": "JaJgXIobj4TA"
      },
      "outputs": [],
      "source": [
        "data_path = os.path.join(\"input.json\")\n",
        "data_array = ((input).detach().numpy()).reshape([-1]).tolist()\n",
        "data = dict(input_data = [data_array])\n",
        "json.dump(data, open(data_path, \"w\"))"
      ]
    },
    {
      "cell_type": "code",
      "execution_count": null,
      "metadata": {
        "id": "ZZS6UotLoFZs"
      },
      "outputs": [],
      "source": [
        "settings_path = os.path.join(\"settings.json\")\n",
        "srs_path = os.path.join(\"kzg.srs\")\n",
        "witness_path = os.path.join(\"witness.json\")\n",
        "compiled_model_path = os.path.join(\"network.compiled\")\n",
        "pk_path = os.path.join(\"test.pk\")\n",
        "vk_path = os.path.join(\"test.vk\")"
      ]
    },
    {
      "cell_type": "code",
      "execution_count": null,
      "metadata": {
        "id": "_YtRUdacmwNr"
      },
      "outputs": [],
      "source": [
        "run_args = ezkl.PyRunArgs()\n",
        "run_args.input_visibility = \"public\"\n",
        "run_args.param_visibility = \"fixed\"\n",
        "run_args.output_visibility = \"public\"\n",
        "# we set both input and param scale to 0 since we input and params will always be represented as integers. (No precision loss)\n",
        "run_args.scale_rebase_multiplier = 10\n",
        "run_args.input_scale = 0\n",
        "run_args.param_scale = 0\n",
        "\n",
        "assert ezkl.gen_settings(model_path, settings_path, py_run_args=run_args)"
      ]
    },
    {
      "cell_type": "code",
      "execution_count": null,
      "metadata": {},
      "outputs": [],
      "source": [
        "assert ezkl.compile_circuit(model_path, compiled_model_path, settings_path)"
      ]
    },
    {
      "cell_type": "code",
      "execution_count": null,
      "metadata": {},
      "outputs": [],
      "source": [
        "assert ezkl.get_srs(settings_path)"
      ]
    },
    {
      "cell_type": "code",
      "execution_count": null,
      "metadata": {},
      "outputs": [],
      "source": [
        "witness = ezkl.gen_witness(data_path, compiled_model_path, witness_path)\n",
        "assert os.path.isfile(witness_path)"
      ]
    },
    {
      "cell_type": "code",
      "execution_count": null,
      "metadata": {
        "id": "_qjm8oUmolnq"
      },
      "outputs": [],
      "source": [
        "res = ezkl.setup(\n",
        "  compiled_model_path,\n",
        "  vk_path,\n",
        "  pk_path,\n",
        "  witness_path=witness_path,\n",
        ")\n",
        "assert res == True\n",
        "assert os.path.isfile(vk_path)\n",
        "assert os.path.isfile(pk_path)\n",
        "assert os.path.isfile(settings_path)"
      ]
    },
    {
      "cell_type": "code",
      "execution_count": null,
      "metadata": {},
      "outputs": [],
      "source": [
        "# GENERATE A PROOF\n",
        "\n",
        "proof_path = os.path.join('test.pf')\n",
        "\n",
        "res = ezkl.prove(\n",
        "        witness_path,\n",
        "        compiled_model_path,\n",
        "        pk_path,\n",
        "        proof_path,\n",
        "        \"single\",\n",
        "    )\n",
        "\n",
        "print(res)\n",
        "assert os.path.isfile(proof_path)"
      ]
    },
    {
      "cell_type": "code",
      "execution_count": null,
      "metadata": {},
      "outputs": [],
      "source": [
        "# VERIFY IT\n",
        "res = ezkl.verify(\n",
        "        proof_path,\n",
        "        settings_path,\n",
        "        vk_path,\n",
        "    )\n",
        "\n",
        "assert res == True\n",
        "print(\"verified\")"
      ]
    },
    {
      "cell_type": "markdown",
      "metadata": {},
      "source": [
        "We can now create an EVM / `.sol` verifier that can be deployed on chain to verify submitted proofs using a view function."
      ]
    },
    {
      "cell_type": "code",
      "execution_count": null,
      "metadata": {},
      "outputs": [],
      "source": [
        "abi_path = 'test.abi'\n",
        "sol_code_path = 'test_1.sol'\n",
        "\n",
        "res = ezkl.create_evm_verifier(\n",
        "        vk_path,\n",
        "        settings_path,\n",
        "        sol_code_path,\n",
        "        abi_path,\n",
        "    )\n",
        "assert res == True"
      ]
    },
    {
      "cell_type": "markdown",
      "metadata": {},
      "source": [
        "## Verify on the evm"
      ]
    },
    {
      "cell_type": "code",
      "execution_count": null,
      "metadata": {},
      "outputs": [],
      "source": [
        "# Make sure anvil is running locally first\n",
        "# run with $ anvil -p 3030\n",
        "# we use the default anvil node here\n",
        "import json\n",
        "\n",
        "address_path = os.path.join(\"address.json\")\n",
        "\n",
        "res = ezkl.deploy_evm(\n",
        "    address_path,\n",
        "    sol_code_path,\n",
        "    'http://127.0.0.1:3030'\n",
        ")\n",
        "\n",
        "assert res == True\n",
        "\n",
        "with open(address_path, 'r') as file:\n",
        "    addr = file.read().rstrip()"
      ]
    },
    {
      "cell_type": "code",
      "execution_count": null,
      "metadata": {},
      "outputs": [],
      "source": [
        "# make sure anvil is running locally\n",
        "# $ anvil -p 3030\n",
        "\n",
        "res = ezkl.verify_evm(\n",
        "    proof_path,\n",
        "    addr,\n",
        "    \"http://127.0.0.1:3030\"\n",
        ")\n",
        "assert res == True"
      ]
    },
    {
      "cell_type": "markdown",
      "metadata": {},
      "source": [
        "As a sanity check lets plot the rotations of the unit vectors. We can see that the unit vectors rotate as expected by the output of the circuit. "
      ]
    },
    {
      "cell_type": "code",
      "execution_count": null,
      "metadata": {},
      "outputs": [],
      "source": [
        "witness['outputs'][0][0]"
      ]
    },
    {
      "cell_type": "code",
      "execution_count": null,
      "metadata": {},
      "outputs": [],
      "source": [
        "settings = json.load(open(settings_path, 'r'))\n",
        "out_scale = settings[\"model_output_scales\"][0]\n",
        "\n",
        "\n",
        "degree_change = ezkl.vecu64_to_float(witness['outputs'][0][0], out_scale)\n",
        "print(degree_change)\n",
        "render_arrows(degree_change)"
      ]
    }
  ],
  "metadata": {
    "accelerator": "GPU",
    "colab": {
      "gpuType": "T4",
      "provenance": []
    },
    "kernelspec": {
      "display_name": "Python 3",
      "name": "python3"
    },
    "language_info": {
      "codemirror_mode": {
        "name": "ipython",
        "version": 3
      },
      "file_extension": ".py",
      "mimetype": "text/x-python",
      "name": "python",
      "nbconvert_exporter": "python",
      "pygments_lexer": "ipython3",
      "version": "3.9.13"
    }
  },
  "nbformat": 4,
  "nbformat_minor": 0
}
