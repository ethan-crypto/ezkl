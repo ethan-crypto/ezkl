{
 "cells": [
  {
   "attachments": {},
   "cell_type": "markdown",
   "id": "cf69bb3f-94e6-4dba-92cd-ce08df117d67",
   "metadata": {},
   "source": [
    "## World rotation\n",
    "\n",
    "Here we demonstrate how to use the EZKL package to rotate an on-chain world. \n",
    "\n",
    "![zk-gaming-diagram-transformed](https://hackmd.io/_uploads/HkApuQGV6.png)\n",
    "> **A typical ZK application flow**. For the shape rotators out there — this is an easily digestible example. A user computes a ZK-proof that they have calculated a valid rotation of a world. They submit this proof to a verifier contract which governs an on-chain world, along with a new set of coordinates, and the world rotation updates. Observe that it’s possible for one player to initiate a *global* change.\n"
   ]
  },
  {
   "cell_type": "code",
   "execution_count": 1,
   "id": "95613ee9",
   "metadata": {},
   "outputs": [],
   "source": [
    "# check if notebook is in colab\n",
    "try:\n",
    "    # install ezkl\n",
    "    import google.colab\n",
    "    import subprocess\n",
    "    import sys\n",
    "    subprocess.check_call([sys.executable, \"-m\", \"pip\", \"install\", \"ezkl\"])\n",
    "    subprocess.check_call([sys.executable, \"-m\", \"pip\", \"install\", \"onnx\"])\n",
    "\n",
    "# rely on local installation of ezkl if the notebook is not in colab\n",
    "except:\n",
    "    pass\n",
    "\n"
   ]
  },
  {
   "cell_type": "code",
   "execution_count": 2,
   "metadata": {},
   "outputs": [],
   "source": [
    "from torch import nn\n",
    "import ezkl\n",
    "import os\n",
    "import json\n",
    "import torch\n",
    "import math\n",
    "\n",
    "# these are constatns for the rotation\n",
    "phi = torch.tensor(5 * math.pi / 180)\n",
    "s = torch.sin(phi)\n",
    "c = torch.cos(phi)\n",
    "\n",
    "\n",
    "class RotateStuff(nn.Module):\n",
    "    def __init__(self):\n",
    "        super(RotateStuff, self).__init__()\n",
    "\n",
    "        # create a rotation matrix -- the matrix is constant and is transposed for convenience\n",
    "        self.rot = torch.stack([\n",
    "            torch.stack([c, -s]),\n",
    "            torch.stack([s, c])\n",
    "        ]).t()\n",
    "\n",
    "    def forward(self, x):\n",
    "        x_rot = x @ self.rot   # same as x_rot = (rot @ x.t()).t() due to rot in O(n) (SO(n) even)\n",
    "        return x_rot\n",
    "\n",
    "\n",
    "circuit = RotateStuff()"
   ]
  },
  {
   "cell_type": "markdown",
   "metadata": {},
   "source": [
    "This will showcase the principle directions of rotation by plotting the rotation of a single unit vector."
   ]
  },
  {
   "cell_type": "code",
   "execution_count": 3,
   "metadata": {},
   "outputs": [
    {
     "name": "stdout",
     "output_type": "stream",
     "text": [
      "0.9961947202682495 0.08715573698282242\n",
      "-0.08715573698282242 0.9961947202682495\n"
     ]
    },
    {
     "data": {
      "text/plain": [
       "<matplotlib.patches.FancyArrow at 0x2a8014fa0>"
      ]
     },
     "execution_count": 3,
     "metadata": {},
     "output_type": "execute_result"
    },
    {
     "data": {
      "image/png": "[encoded data removed]",
      "text/plain": [
       "<Figure size 300x300 with 1 Axes>"
      ]
     },
     "metadata": {},
     "output_type": "display_data"
    }
   ],
   "source": [
    "from matplotlib import pyplot\n",
    "pyplot.figure(figsize=(3, 3))\n",
    "pyplot.arrow(0, 0, 1, 0, width=0.02, alpha=0.5)\n",
    "pyplot.arrow(0, 0, 0, 1, width=0.02, alpha=0.5)\n",
    "print(circuit.rot[0, 0].item(), circuit.rot[0, 1].item())\n",
    "print(circuit.rot[1, 0].item(), circuit.rot[1, 1].item())\n",
    "pyplot.arrow(0, 0, circuit.rot[0, 0].item(), circuit.rot[0, 1].item(), width=0.02)\n",
    "pyplot.arrow(0, 0, circuit.rot[1, 0].item(), circuit.rot[1, 1].item(), width=0.02)\n"
   ]
  },
  {
   "cell_type": "code",
   "execution_count": 4,
   "id": "b37637c4",
   "metadata": {},
   "outputs": [],
   "source": [
    "model_path = os.path.join('network.onnx')\n",
    "compiled_model_path = os.path.join('network.compiled')\n",
    "pk_path = os.path.join('test.pk')\n",
    "vk_path = os.path.join('test.vk')\n",
    "settings_path = os.path.join('settings.json')\n",
    "srs_path = os.path.join('kzg.srs')\n",
    "witness_path = os.path.join('witness.json')\n",
    "data_path = os.path.join('input.json')"
   ]
  },
  {
   "cell_type": "code",
   "execution_count": 6,
   "id": "82db373a",
   "metadata": {},
   "outputs": [
    {
     "name": "stdout",
     "output_type": "stream",
     "text": [
      "================ Diagnostic Run torch.onnx.export version 2.0.1 ================\n",
      "verbose: False, log level: Level.ERROR\n",
      "======================= 0 NONE 0 NOTE 0 WARNING 0 ERROR ========================\n",
      "\n"
     ]
    }
   ],
   "source": [
    "\n",
    "\n",
    "# initial principle vectors for the rotation are as in the plot above\n",
    "x = torch.tensor([[1, 0], [0, 1]], dtype=torch.float32)\n",
    "\n",
    "# Flips the neural net into inference mode\n",
    "circuit.eval()\n",
    "\n",
    "    # Export the model\n",
    "torch.onnx.export(circuit,               # model being run\n",
    "                      x,                   # model input (or a tuple for multiple inputs)\n",
    "                      model_path,            # where to save the model (can be a file or file-like object)\n",
    "                      export_params=True,        # store the trained parameter weights inside the model file\n",
    "                      opset_version=10,          # the ONNX version to export the model to\n",
    "                      do_constant_folding=True,  # whether to execute constant folding for optimization\n",
    "                      input_names = ['input'],   # the model's input names\n",
    "                      output_names = ['output'], # the model's output names\n",
    "                      )\n",
    "\n",
    "data_array = ((x).detach().numpy()).reshape([-1]).tolist()\n",
    "\n",
    "data = dict(input_data = [data_array])\n",
    "\n",
    "    # Serialize data into file:\n",
    "json.dump( data, open(data_path, 'w' ))\n"
   ]
  },
  {
   "cell_type": "markdown",
   "metadata": {},
   "source": [
    "### World rotation in 2D on-chain"
   ]
  },
  {
   "cell_type": "markdown",
   "metadata": {},
   "source": [
    "For demo purposes we deploy these coordinates to a contract running locally using Anvil. This creates our on-chain world. We then rotate the world using the EZKL package and submit the proof to the contract. The contract then updates the world rotation. For demo purposes we do this repeatedly, rotating the world by 1 transform each time."
   ]
  },
  {
   "cell_type": "code",
   "execution_count": 7,
   "metadata": {},
   "outputs": [],
   "source": [
    "import subprocess\n",
    "import time\n",
    "import threading\n",
    "\n",
    "# make sure anvil is running locally\n",
    "# $ anvil -p 3030\n",
    "\n",
    "RPC_URL = \"http://localhost:3030\"\n",
    "\n",
    "# Save process globally\n",
    "anvil_process = None\n",
    "\n",
    "def start_anvil():\n",
    "    global anvil_process\n",
    "    if anvil_process is None:\n",
    "        anvil_process = subprocess.Popen([\"anvil\", \"-p\", \"3030\", \"--code-size-limit=41943040\"])\n",
    "        if anvil_process.returncode is not None:\n",
    "            raise Exception(\"failed to start anvil process\")\n",
    "        time.sleep(3)\n",
    "\n",
    "def stop_anvil():\n",
    "    global anvil_process\n",
    "    if anvil_process is not None:\n",
    "        anvil_process.terminate()\n",
    "        anvil_process = None\n"
   ]
  },
  {
   "cell_type": "markdown",
   "metadata": {},
   "source": [
    "We define our `PyRunArgs` objects which contains the visibility parameters for out model. \n",
    "- `input_visibility` defines the visibility of the model inputs\n",
    "- `param_visibility` defines the visibility of the model weights and constants and parameters \n",
    "- `output_visibility` defines the visibility of the model outputs\n",
    "\n",
    "Here we create the following setup:\n",
    "- `input_visibility`: \"public\"\n",
    "- `param_visibility`: \"fixed\"\n",
    "- `output_visibility`: public"
   ]
  },
  {
   "cell_type": "code",
   "execution_count": 8,
   "id": "d5e374a2",
   "metadata": {},
   "outputs": [],
   "source": [
    "py_run_args = ezkl.PyRunArgs()\n",
    "py_run_args.input_visibility = \"public\"\n",
    "py_run_args.output_visibility = \"public\"\n",
    "py_run_args.param_visibility = \"private\" # private by default\n",
    "py_run_args.scale_rebase_multiplier = 10\n",
    "\n",
    "res = ezkl.gen_settings(model_path, settings_path, py_run_args=py_run_args)"
   ]
  },
  {
   "cell_type": "code",
   "execution_count": 9,
   "id": "3aa4f090",
   "metadata": {},
   "outputs": [],
   "source": [
    "res = ezkl.compile_circuit(model_path, compiled_model_path, settings_path)\n",
    "assert res == True"
   ]
  },
  {
   "cell_type": "code",
   "execution_count": 11,
   "metadata": {},
   "outputs": [
    {
     "name": "stdout",
     "output_type": "stream",
     "text": [
      "\n",
      "\u001b[32m\n",
      "                             _   _\n",
      "                            (_) | |\n",
      "      __ _   _ __   __   __  _  | |\n",
      "     / _` | | '_ \\  \\ \\ / / | | | |\n",
      "    | (_| | | | | |  \\ V /  | | | |\n",
      "     \\__,_| |_| |_|   \\_/   |_| |_|\n",
      "\u001b[0m\n",
      "    0.2.0 (95a93cd 2023-10-05T06:27:32.022343000Z)\n",
      "    \u001b[32mhttps://github.com/foundry-rs/foundry\u001b[0m\n",
      "\n",
      "Available Accounts\n",
      "==================\n",
      "\n",
      "(0) \"0xf39Fd6e51aad88F6F4ce6aB8827279cffFb92266\" (10000.000000000000000000 ETH)\n",
      "(1) \"0x70997970C51812dc3A010C7d01b50e0d17dc79C8\" (10000.000000000000000000 ETH)\n",
      "(2) \"0x3C44CdDdB6a900fa2b585dd299e03d12FA4293BC\" (10000.000000000000000000 ETH)\n",
      "(3) \"0x90F79bf6EB2c4f870365E785982E1f101E93b906\" (10000.000000000000000000 ETH)\n",
      "(4) \"0x15d34AAf54267DB7D7c367839AAf71A00a2C6A65\" (10000.000000000000000000 ETH)\n",
      "(5) \"0x9965507D1a55bcC2695C58ba16FB37d819B0A4dc\" (10000.000000000000000000 ETH)\n",
      "(6) \"0x976EA74026E726554dB657fA54763abd0C3a0aa9\" (10000.000000000000000000 ETH)\n",
      "(7) \"0x14dC79964da2C08b23698B3D3cc7Ca32193d9955\" (10000.000000000000000000 ETH)\n",
      "(8) \"0x23618e81E3f5cdF7f54C3d65f7FBc0aBf5B21E8f\" (10000.000000000000000000 ETH)\n",
      "(9) \"0xa0Ee7A142d267C1f36714E4a8F75612F20a79720\" (10000.000000000000000000 ETH)\n",
      "\n",
      "Private Keys\n",
      "==================\n",
      "\n",
      "(0) 0xac0974bec39a17e36ba4a6b4d238ff944bacb478cbed5efcae784d7bf4f2ff80\n",
      "(1) 0x59c6995e998f97a5a0044966f0945389dc9e86dae88c7a8412f4603b6b78690d\n",
      "(2) 0x5de4111afa1a4b94908f83103eb1f1706367c2e68ca870fc3fb9a804cdab365a\n",
      "(3) 0x7c852118294e51e653712a81e05800f419141751be58f605c371e15141b007a6\n",
      "(4) 0x47e179ec197488593b187f80a00eb0da91f1b9d0b13f8733639f19c30a34926a\n",
      "(5) 0x8b3a350cf5c34c9194ca85829a2df0ec3153be0318b5e2d3348e872092edffba\n",
      "(6) 0x92db14e403b83dfe3df233f83dfa3a0d7096f21ca9b0d6d6b8d88b2b4ec1564e\n",
      "(7) 0x4bbbf85ce3377467afe5d46f804f221813b2bb87f24d81f60f1fcdbf7cbf4356\n",
      "(8) 0xdbda1821b80551c9d65939329250298aa3472ba22feea921c0cf5d620ea67b97\n",
      "(9) 0x2a871d0798f97d79848a013d4936a73bf4cc922c825d33c1cf7073dff6d409c6\n",
      "\n",
      "Wallet\n",
      "==================\n",
      "Mnemonic:          test test test test test test test test test test test junk\n",
      "Derivation path:   m/44'/60'/0'/0/\n",
      "\n",
      "\n",
      "Chain ID\n",
      "==================\n",
      "\u001b[32m\n",
      "31337\u001b[0m\n",
      "\n",
      "Base Fee\n",
      "==================\n",
      "\u001b[32m\n",
      "1000000000\u001b[0m\n",
      "\n",
      "Gas Limit\n",
      "==================\n",
      "\u001b[32m\n",
      "30000000\u001b[0m\n",
      "\n",
      "Genesis Timestamp\n",
      "==================\n",
      "\u001b[32m\n",
      "1702103588\u001b[0m\n",
      "\n",
      "Listening on 127.0.0.1:3030\n"
     ]
    }
   ],
   "source": [
    "start_anvil()"
   ]
  },
  {
   "cell_type": "markdown",
   "metadata": {},
   "source": [
    "We also define a contract that holds out test data. This contract will contain in its storage the data that we will read from and attest to. In production you would not need to set up a local anvil instance. Instead you would replace RPC_URL with the actual RPC endpoint of the chain you are deploying your verifiers too, reading from the data on said chain."
   ]
  },
  {
   "cell_type": "code",
   "execution_count": 12,
   "metadata": {},
   "outputs": [
    {
     "name": "stdout",
     "output_type": "stream",
     "text": [
      "eth_chainId\n",
      "eth_getTransactionCount\n",
      "eth_getBlockByNumber\n",
      "eth_feeHistory\n",
      "eth_estimateGas\n",
      "eth_sendRawTransaction\n",
      "\n",
      "    Transaction: 0xfeb711f4abb4a36c40e10e552962eb9f7230555c6a2fa4900c967a393d75a5eb\n",
      "    Contract created: 0x5fbdb2315678afecb367f032d93f642f64180aa3\n",
      "    Gas used: 210019\n",
      "\n",
      "    Block Number: 1\n",
      "    Block Hash: 0x93f9730ff1079fbc5c18c98ca0a14dadf8522011975e4dcffeeecede493c2f4a\n",
      "    Block Time: \"Sat, 09 Dec 2023 06:33:13 +0000\"\n",
      "\n",
      "eth_getTransactionByHash\n",
      "eth_getTransactionReceipt\n",
      "eth_call\n",
      "eth_call\n",
      "eth_call\n",
      "eth_call\n",
      "eth_getTransactionCount\n",
      "eth_getBlockByNumber\n",
      "eth_feeHistory\n",
      "eth_estimateGas\n",
      "eth_sendRawTransaction\n",
      "\n",
      "    Transaction: 0x6df885aee4d98c3a618252e6056e5fb08d4163687708f448433acbbb5444f4c1\n",
      "    Contract created: 0xe7f1725e7734ce288f8367e1bb143e90bb3f0512\n",
      "    Gas used: 894448\n",
      "\n",
      "    Block Number: 2\n",
      "    Block Hash: 0x3a1c7ebc28cfd1c7b3e6bb1643beb89dc919da2fb1de26c638f39715cf3eea6a\n",
      "    Block Time: \"Sat, 09 Dec 2023 06:33:14 +0000\"\n",
      "\n",
      "eth_getTransactionByHash\n",
      "eth_getTransactionReceipt\n",
      "eth_call\n",
      "eth_call\n"
     ]
    },
    {
     "data": {
      "text/plain": [
       "True"
      ]
     },
     "execution_count": 12,
     "metadata": {},
     "output_type": "execute_result"
    }
   ],
   "source": [
    "ezkl.setup_test_evm_witness(\n",
    "    data_path,\n",
    "    compiled_model_path,\n",
    "    # we write the call data to the same file as the input data\n",
    "    data_path,\n",
    "    input_source=ezkl.PyTestDataSource.OnChain,\n",
    "    output_source=ezkl.PyTestDataSource.File,\n",
    "    rpc_url=RPC_URL)"
   ]
  },
  {
   "cell_type": "markdown",
   "metadata": {},
   "source": [
    "As we use Halo2 with KZG-commitments we need an SRS string from (preferably) a multi-party trusted setup ceremony. For an overview of the procedures for such a ceremony check out [this page](https://blog.ethereum.org/2023/01/16/announcing-kzg-ceremony). The `get_srs` command retrieves a correctly sized SRS given the calibrated settings file from [here](https://github.com/han0110/halo2-kzg-srs). \n",
    "\n",
    "These SRS were generated with [this](https://github.com/privacy-scaling-explorations/perpetualpowersoftau) ceremony. "
   ]
  },
  {
   "cell_type": "code",
   "execution_count": 13,
   "id": "8b74dcee",
   "metadata": {},
   "outputs": [],
   "source": [
    "# srs path\n",
    "res = ezkl.get_srs(settings_path)"
   ]
  },
  {
   "cell_type": "code",
   "execution_count": 14,
   "id": "18c8b7c7",
   "metadata": {},
   "outputs": [
    {
     "name": "stdout",
     "output_type": "stream",
     "text": [
      "eth_chainId\n",
      "eth_call\n",
      "eth_call\n",
      "eth_call\n",
      "eth_call\n",
      "eth_getTransactionCount\n",
      "eth_getBlockByNumber\n",
      "eth_feeHistory\n",
      "eth_estimateGas\n",
      "eth_sendRawTransaction\n",
      "\n",
      "    Transaction: 0x3b5a0add41bbd66aa06a5df154d90b0e805cb4cd749fa1215ec945e21da90d3d\n",
      "    Contract created: 0x9fe46736679d2d9a65f0992f2272de9f3c7fa6e0\n",
      "    Gas used: 894448\n",
      "\n",
      "    Block Number: 3\n",
      "    Block Hash: 0xc71c2aea1f5601e463bd9d1862087f40e7eb929054ec668ec4957ce46e39cec8\n",
      "    Block Time: \"Sat, 09 Dec 2023 06:33:22 +0000\"\n",
      "\n",
      "eth_getTransactionByHash\n",
      "eth_getTransactionReceipt\n",
      "eth_call\n",
      "eth_call\n"
     ]
    }
   ],
   "source": [
    "# now generate the witness file \n",
    "\n",
    "witness = ezkl.gen_witness(data_path, compiled_model_path, witness_path)\n",
    "assert os.path.isfile(witness_path)"
   ]
  },
  {
   "cell_type": "markdown",
   "metadata": {},
   "source": [
    "Here we setup verifying and proving keys for the circuit. As the name suggests the proving key is needed for ... proving and the verifying key is needed for ... verifying. "
   ]
  },
  {
   "cell_type": "code",
   "execution_count": 15,
   "id": "b1c561a8",
   "metadata": {},
   "outputs": [
    {
     "name": "stderr",
     "output_type": "stream",
     "text": [
      "spawning module 2\n",
      "spawning module 2\n"
     ]
    }
   ],
   "source": [
    "res = ezkl.setup(\n",
    "        compiled_model_path,\n",
    "        vk_path,\n",
    "        pk_path,\n",
    "        \n",
    "    )\n",
    "\n",
    "assert res == True\n",
    "assert os.path.isfile(vk_path)\n",
    "assert os.path.isfile(pk_path)\n",
    "assert os.path.isfile(settings_path)"
   ]
  },
  {
   "cell_type": "markdown",
   "metadata": {},
   "source": [
    "We can now create an EVM verifier contract from our circuit. This contract will be deployed to the chain we are using. In this case we are using a local anvil instance."
   ]
  },
  {
   "cell_type": "code",
   "execution_count": 16,
   "metadata": {},
   "outputs": [],
   "source": [
    "abi_path = 'test.abi'\n",
    "sol_code_path = 'test.sol'\n",
    "\n",
    "res = ezkl.create_evm_verifier(\n",
    "        vk_path,\n",
    "        \n",
    "        settings_path,\n",
    "        sol_code_path,\n",
    "        abi_path,\n",
    "    )\n",
    "assert res == True"
   ]
  },
  {
   "cell_type": "code",
   "execution_count": 17,
   "metadata": {},
   "outputs": [
    {
     "name": "stdout",
     "output_type": "stream",
     "text": [
      "eth_chainId\n",
      "eth_getTransactionCount\n",
      "eth_getBlockByNumber\n",
      "eth_feeHistory\n",
      "eth_estimateGas\n",
      "eth_sendRawTransaction\n",
      "\n",
      "    Transaction: 0xe0084c3ee72de7cf7f83f45071a4c6db03f6a13b7cb57676a1167cc5373d4414\n",
      "    Contract created: 0xcf7ed3acca5a467e9e704c703e8d87f634fb0fc9\n",
      "    Gas used: 1629036\n",
      "\n",
      "    Block Number: 4\n",
      "    Block Hash: 0x8ee0da3f4acdd70103348e588ac0ae0001ebadc6018799357443c69e4c83dd4b\n",
      "    Block Time: \"Sat, 09 Dec 2023 06:33:33 +0000\"\n",
      "\n",
      "eth_getTransactionByHash\n",
      "eth_getTransactionReceipt\n"
     ]
    }
   ],
   "source": [
    "import json\n",
    "\n",
    "addr_path_verifier = \"addr_verifier.txt\"\n",
    "\n",
    "res = ezkl.deploy_evm(\n",
    "    addr_path_verifier,\n",
    "    sol_code_path,\n",
    "    'http://127.0.0.1:3030'\n",
    ")\n",
    "\n",
    "assert res == True"
   ]
  },
  {
   "cell_type": "markdown",
   "metadata": {},
   "source": [
    "With the vanilla verifier deployed, we can now create the data attestation contract, which will read in the instances from the calldata to the verifier, attest to them, call the verifier and then return the result. \n",
    "\n"
   ]
  },
  {
   "cell_type": "code",
   "execution_count": 18,
   "metadata": {},
   "outputs": [],
   "source": [
    "abi_path = 'test.abi'\n",
    "sol_code_path = 'test.sol'\n",
    "input_path = 'input.json'\n",
    "\n",
    "res = ezkl.create_evm_data_attestation(\n",
    "        vk_path,\n",
    "        \n",
    "        settings_path,\n",
    "        sol_code_path,\n",
    "        abi_path,\n",
    "        input_path,\n",
    "    )"
   ]
  },
  {
   "cell_type": "code",
   "execution_count": 19,
   "metadata": {},
   "outputs": [
    {
     "name": "stdout",
     "output_type": "stream",
     "text": [
      "eth_chainId\n",
      "eth_getTransactionCount\n",
      "eth_getBlockByNumber\n",
      "eth_feeHistory\n",
      "eth_estimateGas\n",
      "eth_sendRawTransaction\n",
      "\n",
      "    Transaction: 0x2e2b0d5c7cfe0e4409dc8ff85a819be84d95a8f714841e446f5e90b446fbe3a6\n",
      "    Contract created: 0xdc64a140aa3e981100a9beca4e685f962f0cf6c9\n",
      "    Gas used: 1749452\n",
      "\n",
      "    Block Number: 5\n",
      "    Block Hash: 0x6c894db2c1557c9468950d552ddded413964c4f8ad4f313829513b1722e861c0\n",
      "    Block Time: \"Sat, 09 Dec 2023 06:33:41 +0000\"\n",
      "\n",
      "eth_getTransactionByHash\n",
      "eth_getTransactionReceipt\n"
     ]
    }
   ],
   "source": [
    "addr_path_da = \"addr_da.txt\"\n",
    "\n",
    "res = ezkl.deploy_da_evm(\n",
    "        addr_path_da,\n",
    "        input_path,\n",
    "        settings_path,\n",
    "        sol_code_path,\n",
    "        RPC_URL,\n",
    "    )"
   ]
  },
  {
   "cell_type": "markdown",
   "metadata": {},
   "source": [
    "Now we can pull in the data from the contract and calculate a new set of coordinates. We then rotate the world by 1 transform and submit the proof to the contract. The contract could then update the world rotation (logic not inserted here). For demo purposes we do this repeatedly, rotating the world by 1 transform. "
   ]
  },
  {
   "cell_type": "code",
   "execution_count": 20,
   "id": "c384cbc8",
   "metadata": {},
   "outputs": [
    {
     "name": "stderr",
     "output_type": "stream",
     "text": [
      "spawning module 2\n"
     ]
    },
    {
     "name": "stdout",
     "output_type": "stream",
     "text": [
      "{'instances': [[[8895048820941913435, 12590578388187041751, 10644156957292843428, 485414809211466155], [0, 0, 0, 0], [0, 0, 0, 0], [8895048820941913435, 12590578388187041751, 10644156957292843428, 485414809211466155], [3947005216498298223, 12819986980122620440, 11420438865531499559, 2854125043417166596], [720355975776690920, 6472239370783751601, 11570814210398824886, 1852564634523157045], [4171104710259907865, 14871419086232646368, 1710377740875869862, 1634433632279813620], [3947005216498298223, 12819986980122620440, 11420438865531499559, 2854125043417166596]]], 'proof': '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', 'transcript_type': 'EVM'}\n"
     ]
    },
    {
     "name": "stdout",
     "output_type": "stream",
     "text": [
      "eth_chainId\n",
      "eth_getTransactionCount\n",
      "eth_getBlockByNumber\n",
      "eth_feeHistory\n",
      "eth_estimateGas\n",
      "eth_sendRawTransaction\n",
      "\n",
      "    Transaction: 0xb1dc0e239d7c68c331689fb9f2271f30d3b694904c474420ead0018a923b41d9\n",
      "    Contract created: 0x5fc8d32690cc91d4c39d9d3abcbd16989f875707\n",
      "    Gas used: 2135147\n",
      "\n",
      "    Block Number: 6\n",
      "    Block Hash: 0x60c7cd68eacf379edf7acbaed55be92b9584e6cc2f73dacd90557e332ef77a0b\n",
      "    Block Time: \"Sat, 09 Dec 2023 07:11:52 +0000\"\n",
      "\n",
      "eth_getTransactionByHash\n",
      "eth_getTransactionReceipt\n",
      "eth_chainId\n",
      "eth_getTransactionCount\n",
      "eth_getBlockByNumber\n",
      "eth_feeHistory\n",
      "eth_estimateGas\n",
      "eth_sendRawTransaction\n",
      "\n",
      "    Transaction: 0x738078287d38371d569af6200ed1168132a2de6ae77686147e190a388e9edf9a\n",
      "    Contract created: 0x0165878a594ca255338adfa4d48449f69242eb8f\n",
      "    Gas used: 2132519\n",
      "\n",
      "    Block Number: 7\n",
      "    Block Hash: 0x0ba77f0b599751b9d01fd44ebc2d728631465b15f1d9c6c6c43a05edaf4c67ec\n",
      "    Block Time: \"Sat, 09 Dec 2023 07:18:32 +0000\"\n",
      "\n",
      "eth_getTransactionByHash\n",
      "eth_getTransactionReceipt\n",
      "eth_chainId\n",
      "eth_getTransactionCount\n",
      "eth_getBlockByNumber\n",
      "eth_feeHistory\n",
      "eth_estimateGas\n",
      "eth_sendRawTransaction\n",
      "\n",
      "    Transaction: 0xfc3b1feb1343a93ec992d3ae7394e542f38b2658fcbc228caeb3bac79d26c59b\n",
      "    Contract created: 0xa513e6e4b8f2a923d98304ec87f64353c4d5c853\n",
      "    Gas used: 2132519\n",
      "\n",
      "    Block Number: 8\n",
      "    Block Hash: 0x0c8d1418c29d439f29ea7586cc38d27092dfde94d5ab6885bec717bf998109e1\n",
      "    Block Time: \"Sat, 09 Dec 2023 07:19:49 +0000\"\n",
      "\n",
      "eth_getTransactionByHash\n",
      "eth_getTransactionReceipt\n",
      "eth_chainId\n",
      "eth_call\n",
      "eth_estimateGas\n",
      "eth_chainId\n",
      "eth_getTransactionCount\n",
      "eth_getBlockByNumber\n",
      "eth_feeHistory\n",
      "eth_estimateGas\n",
      "eth_sendRawTransaction\n",
      "\n",
      "    Transaction: 0xb9033f151d157535ded96b8ea8766263ce850f34bd577c0fb39aaa3ab0fab031\n",
      "    Contract created: 0x2279b7a0a67db372996a5fab50d91eaa73d2ebe6\n",
      "    Gas used: 2132519\n",
      "\n",
      "    Block Number: 9\n",
      "    Block Hash: 0x481bd49235a0c3ebbc34d3ec60a22a09ce6f6aba07ce2f622ac07a78ddd573b4\n",
      "    Block Time: \"Sat, 09 Dec 2023 08:11:43 +0000\"\n",
      "\n",
      "eth_getTransactionByHash\n",
      "eth_getTransactionReceipt\n",
      "eth_chainId\n",
      "eth_call\n",
      "eth_estimateGas\n",
      "eth_chainId\n",
      "eth_getTransactionCount\n",
      "eth_getBlockByNumber\n",
      "eth_feeHistory\n",
      "eth_estimateGas\n",
      "eth_sendRawTransaction\n",
      "\n",
      "    Transaction: 0xd52ba9939b727ed0e1bc988ccdb961da03cb55b277e83eeb48c570e48e8b19ea\n",
      "    Contract created: 0x8a791620dd6260079bf849dc5567adc3f2fdc318\n",
      "    Gas used: 2132519\n",
      "\n",
      "    Block Number: 10\n",
      "    Block Hash: 0xf1b018c03c84d9294f7884ed76472e32e18bac600cba443cb6947847963a753b\n",
      "    Block Time: \"Sat, 09 Dec 2023 08:15:07 +0000\"\n",
      "\n",
      "eth_getTransactionByHash\n",
      "eth_getTransactionReceipt\n",
      "eth_chainId\n",
      "eth_call\n",
      "eth_estimateGas\n"
     ]
    }
   ],
   "source": [
    "# GENERATE A PROOF\n",
    "\n",
    "\n",
    "proof_path = os.path.join('test.pf')\n",
    "\n",
    "res = ezkl.prove(\n",
    "        witness_path,\n",
    "        compiled_model_path,\n",
    "        pk_path,\n",
    "        proof_path,\n",
    "        \n",
    "        \"single\",\n",
    "    )\n",
    "\n",
    "print(res)\n",
    "assert os.path.isfile(proof_path)"
   ]
  },
  {
   "cell_type": "markdown",
   "metadata": {},
   "source": [
    "Call the view only verify method on the contract to verify the proof. Since it is a view function this is safe to use in production since you don't have to pass your private key."
   ]
  },
  {
   "cell_type": "code",
   "execution_count": null,
   "id": "76f00d41",
   "metadata": {},
   "outputs": [],
   "source": [
    "# read the verifier address\n",
    "addr_verifier = None\n",
    "with open(addr_path_verifier, 'r') as f:\n",
    "    addr = f.read()\n",
    "#read the data attestation address\n",
    "addr_da = None\n",
    "with open(addr_path_da, 'r') as f:\n",
    "    addr_da = f.read()\n",
    "\n",
    "res = ezkl.verify_evm(\n",
    "    proof_path,\n",
    "    addr,\n",
    "    RPC_URL,\n",
    "    addr_da,\n",
    ")"
   ]
  },
  {
   "cell_type": "markdown",
   "metadata": {},
   "source": [
    "As a sanity check lets plot the rotations of the unit vectors. We can see that the unit vectors rotate as expected by the output of the circuit. "
   ]
  },
  {
   "cell_type": "code",
   "execution_count": null,
   "metadata": {},
   "outputs": [],
   "source": [
    "witness['outputs'][0][0]"
   ]
  },
  {
   "cell_type": "code",
   "execution_count": 9,
   "metadata": {},
   "outputs": [
    {
     "ename": "NameError",
     "evalue": "name 'settings_path' is not defined",
     "output_type": "error",
     "traceback": [
      "\u001b[0;31m---------------------------------------------------------------------------\u001b[0m",
      "\u001b[0;31mNameError\u001b[0m                                 Traceback (most recent call last)",
      "\u001b[1;32m/Users/ethancemer/Documents/development/ezkl/examples/notebooks/world_rotation.ipynb Cell 34\u001b[0m line \u001b[0;36m1\n\u001b[0;32m----> <a href='vscode-notebook-cell:/Users/ethancemer/Documents/development/ezkl/examples/notebooks/world_rotation.ipynb#X45sZmlsZQ%3D%3D?line=0'>1</a>\u001b[0m settings \u001b[39m=\u001b[39m json\u001b[39m.\u001b[39mload(\u001b[39mopen\u001b[39m(settings_path, \u001b[39m'\u001b[39m\u001b[39mr\u001b[39m\u001b[39m'\u001b[39m))\n\u001b[1;32m      <a href='vscode-notebook-cell:/Users/ethancemer/Documents/development/ezkl/examples/notebooks/world_rotation.ipynb#X45sZmlsZQ%3D%3D?line=1'>2</a>\u001b[0m out_scale \u001b[39m=\u001b[39m settings[\u001b[39m\"\u001b[39m\u001b[39mmodel_output_scales\u001b[39m\u001b[39m\"\u001b[39m][\u001b[39m0\u001b[39m]\n\u001b[1;32m      <a href='vscode-notebook-cell:/Users/ethancemer/Documents/development/ezkl/examples/notebooks/world_rotation.ipynb#X45sZmlsZQ%3D%3D?line=3'>4</a>\u001b[0m \u001b[39mfrom\u001b[39;00m \u001b[39mmatplotlib\u001b[39;00m \u001b[39mimport\u001b[39;00m pyplot\n",
      "\u001b[0;31mNameError\u001b[0m: name 'settings_path' is not defined"
     ]
    }
   ],
   "source": [
    "settings = json.load(open(settings_path, 'r'))\n",
    "out_scale = settings[\"model_output_scales\"][0]\n",
    "\n",
    "from matplotlib import pyplot\n",
    "pyplot.figure(figsize=(3, 3))\n",
    "pyplot.arrow(0, 0, 1, 0, width=0.02, alpha=0.5)\n",
    "pyplot.arrow(0, 0, 0, 1, width=0.02, alpha=0.5)\n",
    "\n",
    "arrow_x = ezkl.vecu64_to_float(witness['outputs'][0][0], out_scale)\n",
    "arrow_y = ezkl.vecu64_to_float(witness['outputs'][0][1], out_scale)\n",
    "pyplot.arrow(0, 0, arrow_x, arrow_y, width=0.02)\n",
    "arrow_x = ezkl.vecu64_to_float(witness['outputs'][0][2], out_scale)\n",
    "arrow_y = ezkl.vecu64_to_float(witness['outputs'][0][3], out_scale)\n",
    "pyplot.arrow(0, 0, arrow_x, arrow_y, width=0.02)"
   ]
  }
 ],
 "metadata": {
  "kernelspec": {
   "display_name": "Python 3 (ipykernel)",
   "language": "python",
   "name": "python3"
  },
  "language_info": {
   "codemirror_mode": {
    "name": "ipython",
    "version": 3
   },
   "file_extension": ".py",
   "mimetype": "text/x-python",
   "name": "python",
   "nbconvert_exporter": "python",
   "pygments_lexer": "ipython3",
   "version": "3.9.13"
  }
 },
 "nbformat": 4,
 "nbformat_minor": 5
}
